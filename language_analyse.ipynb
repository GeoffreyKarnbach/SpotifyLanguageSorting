{
 "cells": [
  {
   "cell_type": "markdown",
   "metadata": {},
   "source": [
    "# <u>ANALYSE</u>"
   ]
  },
  {
   "cell_type": "markdown",
   "metadata": {},
   "source": [
    "## Table of content"
   ]
  },
  {
   "cell_type": "markdown",
   "metadata": {},
   "source": [
    "## <u>Common codebase and general statistics</u>"
   ]
  },
  {
   "cell_type": "code",
   "execution_count": 1,
   "metadata": {},
   "outputs": [],
   "source": [
    "import pandas as pd\n",
    "import numpy as np\n",
    "import matplotlib.pyplot as plt\n",
    "\n",
    "import math\n",
    "import random"
   ]
  },
  {
   "cell_type": "code",
   "execution_count": 2,
   "metadata": {},
   "outputs": [],
   "source": [
    "def print_format_as_percent(number, text = \"\"):\n",
    "    if text != \"\":\n",
    "        print(text, end = \": \")\n",
    "    print(\"{:.2f}%\".format(number * 100))"
   ]
  },
  {
   "cell_type": "markdown",
   "metadata": {},
   "source": [
    "Produce a smaller dataset with only English, German and French (no other languages necessary for our purpose, can easily be extended)"
   ]
  },
  {
   "cell_type": "code",
   "execution_count": 3,
   "metadata": {},
   "outputs": [],
   "source": [
    "languages = [\"English\", \"German\", \"French\"]\n",
    "\n",
    "df = pd.read_csv('Data/languages.csv')\n",
    "\n",
    "reduced_df = df[df['Language'].isin(languages)]\n",
    "reduced_df.to_csv('Data/minimal_languages.csv', index=False)"
   ]
  },
  {
   "cell_type": "markdown",
   "metadata": {},
   "source": [
    "Export french only into single csv"
   ]
  },
  {
   "cell_type": "code",
   "execution_count": 4,
   "metadata": {},
   "outputs": [],
   "source": [
    "french_df = df[df['Language'].isin([\"French\"])]\n",
    "french_df.to_csv('Data/french.csv', index=False)"
   ]
  },
  {
   "cell_type": "markdown",
   "metadata": {},
   "source": [
    "Export german only into single csv"
   ]
  },
  {
   "cell_type": "code",
   "execution_count": 5,
   "metadata": {},
   "outputs": [],
   "source": [
    "german_df = df[df['Language'].isin([\"German\"])]\n",
    "german_df.to_csv('Data/german.csv', index=False)"
   ]
  },
  {
   "cell_type": "markdown",
   "metadata": {},
   "source": [
    "Export english only into single csv"
   ]
  },
  {
   "cell_type": "code",
   "execution_count": 6,
   "metadata": {},
   "outputs": [],
   "source": [
    "english_df = df[df['Language'].isin([\"English\"])]\n",
    "english_df.to_csv('Data/english.csv', index=False)"
   ]
  },
  {
   "cell_type": "markdown",
   "metadata": {},
   "source": [
    "Common french statistics regarding data frame"
   ]
  },
  {
   "cell_type": "code",
   "execution_count": 7,
   "metadata": {},
   "outputs": [
    {
     "name": "stdout",
     "output_type": "stream",
     "text": [
      "1014\n",
      "23260\n",
      "124921\n",
      "5.370636285468616\n"
     ]
    }
   ],
   "source": [
    "french_df = pd.read_csv('Data/french.csv', encoding='utf-8')\n",
    "\n",
    "fr_array_of_word_arrays = [word.replace(u'\\xa0', u' ').split(\" \") for word in french_df['Text']]\n",
    "fr_number_of_sentences = len(fr_array_of_word_arrays)\n",
    "fr_number_of_words = sum([len(item) for item in fr_array_of_word_arrays])\n",
    "fr_number_of_letters = sum(sum([len(word) for word in sentence]) for sentence in fr_array_of_word_arrays)\n",
    "fr_average_word_length = fr_number_of_letters / fr_number_of_words\n",
    "\n",
    "print(fr_number_of_sentences)\n",
    "print(fr_number_of_words)\n",
    "print(fr_number_of_letters)\n",
    "print(fr_average_word_length)"
   ]
  },
  {
   "cell_type": "markdown",
   "metadata": {},
   "source": [
    "Common english statistics regarding data frame"
   ]
  },
  {
   "cell_type": "code",
   "execution_count": 8,
   "metadata": {},
   "outputs": [
    {
     "name": "stdout",
     "output_type": "stream",
     "text": [
      "1385\n",
      "30382\n",
      "160611\n",
      "5.286386676321506\n"
     ]
    }
   ],
   "source": [
    "english_df = pd.read_csv('Data/english.csv', encoding='utf-8')\n",
    "\n",
    "eng_array_of_word_arrays = [word.replace(u'\\xa0', u' ').split(\" \") for word in english_df['Text']]\n",
    "eng_number_of_sentences = len(eng_array_of_word_arrays)\n",
    "eng_number_of_words = sum([len(item) for item in eng_array_of_word_arrays])\n",
    "eng_number_of_letters = sum(sum([len(word) for word in sentence]) for sentence in eng_array_of_word_arrays)\n",
    "eng_average_word_length = eng_number_of_letters / eng_number_of_words\n",
    "\n",
    "print(eng_number_of_sentences)\n",
    "print(eng_number_of_words)\n",
    "print(eng_number_of_letters)\n",
    "print(eng_average_word_length)"
   ]
  },
  {
   "cell_type": "markdown",
   "metadata": {},
   "source": [
    "Common german statistics regarding data frame"
   ]
  },
  {
   "cell_type": "code",
   "execution_count": 9,
   "metadata": {},
   "outputs": [
    {
     "name": "stdout",
     "output_type": "stream",
     "text": [
      "470\n",
      "5927\n",
      "29653\n",
      "5.003036949552894\n"
     ]
    }
   ],
   "source": [
    "german_df = pd.read_csv('Data/german.csv', encoding='utf-8')\n",
    "\n",
    "ger_array_of_word_arrays = [word.replace(u'\\xa0', u' ').split(\" \") for word in german_df['Text']]\n",
    "ger_number_of_sentences = len(ger_array_of_word_arrays)\n",
    "ger_number_of_words = sum([len(item) for item in ger_array_of_word_arrays])\n",
    "ger_number_of_letters = sum(sum([len(word) for word in sentence]) for sentence in ger_array_of_word_arrays)\n",
    "ger_average_word_length = ger_number_of_letters / ger_number_of_words\n",
    "\n",
    "print(ger_number_of_sentences)\n",
    "print(ger_number_of_words)\n",
    "print(ger_number_of_letters)\n",
    "print(ger_average_word_length)"
   ]
  },
  {
   "cell_type": "markdown",
   "metadata": {},
   "source": [
    "## <u>Analysis of typical attributes, allowing direct identification of a language</u>"
   ]
  },
  {
   "cell_type": "markdown",
   "metadata": {},
   "source": [
    "### <u>Special character (french specific)</u>"
   ]
  },
  {
   "cell_type": "code",
   "execution_count": 10,
   "metadata": {},
   "outputs": [
    {
     "name": "stdout",
     "output_type": "stream",
     "text": [
      "4138\n",
      "3.31%\n"
     ]
    }
   ],
   "source": [
    "fr_special_char = [\"é\", \"è\", \"ê\", \"à\", \"â\", \"ù\", \"ô\", \"ç\"]\n",
    "\n",
    "fr_occurence = 0\n",
    "\n",
    "for sentence in fr_array_of_word_arrays:\n",
    "    for word in sentence:\n",
    "        for char in word:\n",
    "            if char.lower() in fr_special_char:\n",
    "                fr_occurence += 1\n",
    "\n",
    "fr_occurence_ratio = fr_occurence / fr_number_of_letters\n",
    "\n",
    "print(fr_occurence)\n",
    "print_format_as_percent(fr_occurence_ratio)"
   ]
  },
  {
   "cell_type": "markdown",
   "metadata": {},
   "source": [
    "Analyse occurence rate of special character in german and english (should be very low for attribute to have high entropy value)"
   ]
  },
  {
   "cell_type": "code",
   "execution_count": 133,
   "metadata": {},
   "outputs": [
    {
     "name": "stdout",
     "output_type": "stream",
     "text": [
      "English\n",
      "5\n",
      "0.00%\n",
      "\n",
      "German\n",
      "0\n",
      "0.00%\n"
     ]
    }
   ],
   "source": [
    "english_df = pd.read_csv('Data/english.csv', encoding='utf-8')\n",
    "german_df = pd.read_csv('Data/german.csv', encoding='utf-8')\n",
    "\n",
    "eng_occurence = 0\n",
    "ger_occurence = 0\n",
    "\n",
    "for sentence in eng_array_of_word_arrays:\n",
    "    for word in sentence:\n",
    "        for char in word:\n",
    "            if char.lower() in fr_special_char:\n",
    "                eng_occurence += 1\n",
    "\n",
    "for sentence in ger_array_of_word_arrays:\n",
    "    for word in sentence:\n",
    "        for char in word:\n",
    "            if char.lower() in fr_special_char:\n",
    "                ger_occurence += 1\n",
    "\n",
    "eng_occurence_ratio = eng_occurence / eng_number_of_letters\n",
    "ger_occurence_ratio = ger_occurence / ger_number_of_letters\n",
    "\n",
    "print(\"English\")\n",
    "print(eng_occurence)\n",
    "print_format_as_percent(eng_occurence_ratio)\n",
    "\n",
    "print()\n",
    "\n",
    "print(\"German\")\n",
    "print(ger_occurence)\n",
    "print_format_as_percent(ger_occurence_ratio)"
   ]
  },
  {
   "cell_type": "markdown",
   "metadata": {},
   "source": [
    "Very low values (5 for english and 0 for german), therefore the attribute \"contains_spec_char\" is a good indication if it is french (not containing does not imply that it is not french though, as occurence rate is quite low ~3.28% only)"
   ]
  },
  {
   "cell_type": "markdown",
   "metadata": {},
   "source": [
    "### <u>Special character (german specific)</u>"
   ]
  },
  {
   "cell_type": "code",
   "execution_count": 12,
   "metadata": {},
   "outputs": [
    {
     "name": "stdout",
     "output_type": "stream",
     "text": [
      "490\n",
      "1.65%\n"
     ]
    }
   ],
   "source": [
    "ger_special_char = [\"ä\", \"ö\", \"ü\", \"ß\"]\n",
    "\n",
    "ger_occurence = 0\n",
    "\n",
    "for sentence in ger_array_of_word_arrays:\n",
    "    for word in sentence:\n",
    "        for char in word:\n",
    "            if char.lower() in ger_special_char:\n",
    "                ger_occurence += 1\n",
    "\n",
    "ger_occurence_ratio = ger_occurence / ger_number_of_letters\n",
    "\n",
    "print(ger_occurence)\n",
    "print_format_as_percent(ger_occurence_ratio)"
   ]
  },
  {
   "cell_type": "markdown",
   "metadata": {},
   "source": [
    "Analyse occurence rate of special character in french and english (should be very low for attribute to have high entropy value)"
   ]
  },
  {
   "cell_type": "code",
   "execution_count": 134,
   "metadata": {},
   "outputs": [
    {
     "name": "stdout",
     "output_type": "stream",
     "text": [
      "English\n",
      "3\n",
      "0.00%\n",
      "\n",
      "French\n",
      "2\n",
      "0.00%\n"
     ]
    }
   ],
   "source": [
    "english_df = pd.read_csv('Data/english.csv', encoding='utf-8')\n",
    "french_df = pd.read_csv('Data/german.csv', encoding='utf-8')\n",
    "\n",
    "eng_occurence = 0\n",
    "fr_occurence = 0\n",
    "\n",
    "for sentence in eng_array_of_word_arrays:\n",
    "    for word in sentence:\n",
    "        for char in word:\n",
    "            if char.lower() in ger_special_char:\n",
    "                eng_occurence += 1\n",
    "\n",
    "for sentence in fr_array_of_word_arrays:\n",
    "    for word in sentence:\n",
    "        for char in word:\n",
    "            if char.lower() in ger_special_char:\n",
    "                fr_occurence += 1\n",
    "\n",
    "eng_occurence_ratio = eng_occurence / eng_number_of_letters\n",
    "fr_occurence_ratio = fr_occurence / fr_number_of_letters\n",
    "\n",
    "print(\"English\")\n",
    "print(eng_occurence)\n",
    "print_format_as_percent(eng_occurence_ratio)\n",
    "\n",
    "print()\n",
    "\n",
    "print(\"French\")\n",
    "print(fr_occurence)\n",
    "print_format_as_percent(fr_occurence_ratio)"
   ]
  },
  {
   "cell_type": "markdown",
   "metadata": {},
   "source": [
    "The english and french language only have a very minimalistic usage of the german \"special\" character (3 for english and 2 for french), therefore an occurence of one of the german special characters are a very good indication, that the language is german."
   ]
  },
  {
   "cell_type": "markdown",
   "metadata": {},
   "source": [
    "We can conclude, that the usage of one of the french special characters ([\"é\", \"è\", \"ê\", \"à\", \"â\", \"ù\", \"ô\", \"ç\"]) or the usage of one of the german special characters ([\"ä\", \"ö\", \"ü\", \"ß\"]), both non case sensitive, are a very good indicator that the language is french/german (depending on the character)."
   ]
  },
  {
   "cell_type": "markdown",
   "metadata": {},
   "source": [
    "The french special character only had an occurence rate of ~3.28 %, the german special character only 1.65%.\n",
    "Therefore, we clearly need further attributes to determine which language a text sample is, in case no special characters occur (either intentionally or unintentionally)."
   ]
  },
  {
   "cell_type": "markdown",
   "metadata": {},
   "source": [
    "## <u>More global language analysis (no direct identification)</u>"
   ]
  },
  {
   "cell_type": "markdown",
   "metadata": {},
   "source": [
    "#### <u>Word length repartition, per language, plotted</u>"
   ]
  },
  {
   "cell_type": "code",
   "execution_count": 14,
   "metadata": {},
   "outputs": [
    {
     "name": "stdout",
     "output_type": "stream",
     "text": [
      "German: {1: 14, 2: 558, 3: 1543, 4: 1005, 5: 803, 6: 716, 7: 376, 8: 298, 9: 210, 10: 141, 11: 105, 12: 79, 13: 34, 14: 15, 15: 14, 16: 5, 17: 4, 18: 4, 20: 1, 21: 2}\n",
      "English: {0: 15, 1: 877, 2: 4798, 3: 5136, 4: 4138, 5: 3214, 6: 2437, 7: 2724, 8: 2271, 9: 1777, 10: 1218, 11: 750, 12: 398, 13: 291, 14: 155, 15: 83, 16: 36, 17: 19, 18: 18, 19: 5, 20: 6, 21: 6, 22: 3, 23: 1, 24: 3, 25: 1, 27: 1, 76: 1}\n",
      "French: {0: 9, 1: 997, 2: 4877, 3: 3138, 4: 2713, 5: 2011, 6: 1719, 7: 1817, 8: 1459, 9: 1512, 10: 993, 11: 686, 12: 458, 13: 349, 14: 223, 15: 153, 16: 64, 17: 25, 18: 19, 19: 12, 20: 10, 21: 4, 22: 2, 23: 1, 24: 3, 26: 1, 27: 3, 29: 1, 32: 1}\n"
     ]
    }
   ],
   "source": [
    "ger_word_lengths_all = [len(word) for sentence in ger_array_of_word_arrays for word in sentence]\n",
    "ger_word_lengths = {i: ger_word_lengths_all.count(i) for i in ger_word_lengths_all}\n",
    "ger_word_lengths = {k: v for k, v in sorted(ger_word_lengths.items(), key=lambda item: item[0])}\n",
    "\n",
    "eng_word_lengths_all = [len(word) for sentence in eng_array_of_word_arrays for word in sentence]\n",
    "eng_word_lengths = {i: eng_word_lengths_all.count(i) for i in eng_word_lengths_all}\n",
    "eng_word_lengths = {k: v for k, v in sorted(eng_word_lengths.items(), key=lambda item: item[0])}\n",
    "\n",
    "fr_word_lengths_all = [len(word) for sentence in fr_array_of_word_arrays for word in sentence]\n",
    "fr_word_lengths = {i: fr_word_lengths_all.count(i) for i in fr_word_lengths_all}\n",
    "fr_word_lengths = {k: v for k, v in sorted(fr_word_lengths.items(), key=lambda item: item[0])}\n",
    "\n",
    "print(f\"German: {ger_word_lengths}\")\n",
    "print(f\"English: {eng_word_lengths}\")\n",
    "print(f\"French: {fr_word_lengths}\")"
   ]
  },
  {
   "cell_type": "markdown",
   "metadata": {},
   "source": [
    "Plot using matplotlib"
   ]
  },
  {
   "cell_type": "code",
   "execution_count": 15,
   "metadata": {},
   "outputs": [
    {
     "data": {
      "image/png": "[encoded data removed]",
      "text/plain": [
       "<Figure size 640x480 with 1 Axes>"
      ]
     },
     "metadata": {},
     "output_type": "display_data"
    },
    {
     "data": {
      "image/png": "[encoded data removed]",
      "text/plain": [
       "<Figure size 640x480 with 1 Axes>"
      ]
     },
     "metadata": {},
     "output_type": "display_data"
    },
    {
     "data": {
      "image/png": "[encoded data removed]",
      "text/plain": [
       "<Figure size 640x480 with 1 Axes>"
      ]
     },
     "metadata": {},
     "output_type": "display_data"
    }
   ],
   "source": [
    "plt.bar(range(len(ger_word_lengths)), list(ger_word_lengths.values()), tick_label=list(ger_word_lengths.keys()), color='r')\n",
    "plt.show()\n",
    "\n",
    "plt.bar(range(len(eng_word_lengths)), list(eng_word_lengths.values()), tick_label=list(eng_word_lengths.keys()), color='b')\n",
    "plt.show()\n",
    "\n",
    "plt.bar(range(len(fr_word_lengths)), list(fr_word_lengths.values()), tick_label=list(fr_word_lengths.keys()), color='g')\n",
    "plt.show()"
   ]
  },
  {
   "cell_type": "markdown",
   "metadata": {},
   "source": [
    "No interesting results from the word length analysis"
   ]
  },
  {
   "cell_type": "markdown",
   "metadata": {},
   "source": [
    "#### <u>Capital letter of words ratio</u>"
   ]
  },
  {
   "cell_type": "markdown",
   "metadata": {},
   "source": [
    "Nouns in german start with a capital letter, therefore there should be an increased amount of capital letters, therefore a higher ratio for german compared to the other languages.\n",
    "If the ratio is high enough, this could be used as an attribute."
   ]
  },
  {
   "cell_type": "code",
   "execution_count": 16,
   "metadata": {},
   "outputs": [
    {
     "name": "stdout",
     "output_type": "stream",
     "text": [
      "German: 23.45%\n",
      "English: 9.17%\n",
      "French: 7.34%\n"
     ]
    }
   ],
   "source": [
    "ger_capital_words = 0\n",
    "eng_capital_words = 0\n",
    "fr_capital_words = 0\n",
    "\n",
    "for sentence in ger_array_of_word_arrays:\n",
    "    for word in sentence:\n",
    "        if len(word) != 0 and word[0].isupper():\n",
    "            ger_capital_words += 1\n",
    "\n",
    "for sentence in eng_array_of_word_arrays:\n",
    "    for word in sentence:\n",
    "        if len(word) != 0 and word[0].isupper():\n",
    "            eng_capital_words += 1\n",
    "\n",
    "for sentence in fr_array_of_word_arrays:\n",
    "    for word in sentence:\n",
    "        if len(word) != 0 and word[0].isupper():\n",
    "            fr_capital_words += 1\n",
    "\n",
    "ger_capital_words_ratio = ger_capital_words / ger_number_of_words\n",
    "eng_capital_words_ratio = eng_capital_words / eng_number_of_words\n",
    "fr_capital_words_ratio = fr_capital_words / fr_number_of_words\n",
    "\n",
    "print_format_as_percent(ger_capital_words_ratio, \"German\")\n",
    "print_format_as_percent(eng_capital_words_ratio, \"English\")\n",
    "print_format_as_percent(fr_capital_words_ratio, \"French\")"
   ]
  },
  {
   "cell_type": "markdown",
   "metadata": {},
   "source": [
    "We can observe a way higher rate of words starting with a capital letter in german (real rate is probably even higher as the dataset contained falsely lower words).\n",
    "We now need to to check, if the ratio still work with random samples, to determine if the ratio also applies to smaller subsets of \"sentences\".\n",
    "\n",
    "For each language, the average ratio for 10 sentences is computed, the entire experience repeated 100 times per language. The maximum, minimum, average and median values are printed out to determine if this property would be a good attribute."
   ]
  },
  {
   "cell_type": "markdown",
   "metadata": {},
   "source": [
    "German random sentence sample capital letter experiment"
   ]
  },
  {
   "cell_type": "code",
   "execution_count": 55,
   "metadata": {},
   "outputs": [
    {
     "name": "stdout",
     "output_type": "stream",
     "text": [
      "German: Min: 13.82\n",
      "Median: 24.32\n",
      "Avg: 24.31\n",
      "Max: 35.25\n"
     ]
    }
   ],
   "source": [
    "ger_experiment_results = []\n",
    "\n",
    "for iteration in range(100):\n",
    "    sentences_to_test = random.choices(ger_array_of_word_arrays, k=10)\n",
    "    \n",
    "    capital_words = 0\n",
    "    word_count = 0\n",
    "    for sentence in sentences_to_test:\n",
    "        for word in sentence:\n",
    "            word_count += 1\n",
    "            if len(word) != 0 and word[0].isupper():\n",
    "                capital_words += 1\n",
    "    \n",
    "    capital_words_ratio = capital_words / word_count\n",
    "    ger_experiment_results.append(round(capital_words_ratio*100, 2))\n",
    "\n",
    "ger_experiment_results.sort()\n",
    "\n",
    "ger_min_ratio = min(ger_experiment_results)\n",
    "ger_max_ratio = max(ger_experiment_results)\n",
    "ger_avg_ratio = round(sum(ger_experiment_results) / len(ger_experiment_results), 2)\n",
    "ger_median_ratio = ger_experiment_results[len(ger_experiment_results) // 2]\n",
    "\n",
    "print(f\"German: Min: {ger_min_ratio}\\nMedian: {ger_median_ratio}\\nAvg: {ger_avg_ratio}\\nMax: {ger_max_ratio}\")"
   ]
  },
  {
   "cell_type": "markdown",
   "metadata": {},
   "source": [
    "English random sentence sample capital letter experiment"
   ]
  },
  {
   "cell_type": "code",
   "execution_count": 78,
   "metadata": {},
   "outputs": [
    {
     "name": "stdout",
     "output_type": "stream",
     "text": [
      "German: Min: 2.82\n",
      "Median: 8.71\n",
      "Avg: 8.96\n",
      "Max: 19.16\n"
     ]
    }
   ],
   "source": [
    "eng_experiment_results = []\n",
    "\n",
    "for iteration in range(100):\n",
    "    sentences_to_test = random.choices(eng_array_of_word_arrays, k=10)\n",
    "    \n",
    "    capital_words = 0\n",
    "    word_count = 0\n",
    "    for sentence in sentences_to_test:\n",
    "        for word in sentence:\n",
    "            word_count += 1\n",
    "            if len(word) != 0 and word[0].isupper():\n",
    "                capital_words += 1\n",
    "    \n",
    "    capital_words_ratio = capital_words / word_count\n",
    "    eng_experiment_results.append(round(capital_words_ratio*100, 2))\n",
    "\n",
    "eng_experiment_results.sort()\n",
    "\n",
    "eng_min_ratio = min(eng_experiment_results)\n",
    "eng_max_ratio = max(eng_experiment_results)\n",
    "eng_avg_ratio = round(sum(eng_experiment_results) / len(eng_experiment_results), 2)\n",
    "eng_median_ratio = eng_experiment_results[len(eng_experiment_results) // 2]\n",
    "\n",
    "print(f\"German: Min: {eng_min_ratio}\\nMedian: {eng_median_ratio}\\nAvg: {eng_avg_ratio}\\nMax: {eng_max_ratio}\")"
   ]
  },
  {
   "cell_type": "markdown",
   "metadata": {},
   "source": [
    "French random sentence sample capital letter experiment"
   ]
  },
  {
   "cell_type": "code",
   "execution_count": 84,
   "metadata": {},
   "outputs": [
    {
     "name": "stdout",
     "output_type": "stream",
     "text": [
      "German: Min: 1.91\n",
      "Median: 6.73\n",
      "Avg: 7.01\n",
      "Max: 12.24\n"
     ]
    }
   ],
   "source": [
    "fr_experiment_results = []\n",
    "\n",
    "for iteration in range(100):\n",
    "    sentences_to_test = random.choices(fr_array_of_word_arrays, k=10)\n",
    "    \n",
    "    capital_words = 0\n",
    "    word_count = 0\n",
    "    for sentence in sentences_to_test:\n",
    "        for word in sentence:\n",
    "            word_count += 1\n",
    "            if len(word) != 0 and word[0].isupper():\n",
    "                capital_words += 1\n",
    "    \n",
    "    capital_words_ratio = capital_words / word_count\n",
    "    fr_experiment_results.append(round(capital_words_ratio*100, 2))\n",
    "\n",
    "fr_experiment_results.sort()\n",
    "\n",
    "fr_min_ratio = min(fr_experiment_results)\n",
    "fr_max_ratio = max(fr_experiment_results)\n",
    "fr_avg_ratio = round(sum(fr_experiment_results) / len(fr_experiment_results), 2)\n",
    "fr_median_ratio = fr_experiment_results[len(fr_experiment_results) // 2]\n",
    "\n",
    "print(f\"German: Min: {fr_min_ratio}\\nMedian: {fr_median_ratio}\\nAvg: {fr_avg_ratio}\\nMax: {fr_max_ratio}\")"
   ]
  },
  {
   "cell_type": "markdown",
   "metadata": {},
   "source": [
    "Our thesis still seems to hold, when analysing the capitalization ratio over several sentences, it seems to be a good indicator, that a given text sample is in german when there is a ratio of 23% or more."
   ]
  },
  {
   "cell_type": "markdown",
   "metadata": {},
   "source": [
    "### <u>Common words (filler words) in different languages</u>"
   ]
  },
  {
   "cell_type": "markdown",
   "metadata": {},
   "source": [
    "Most common words used in the english text samples"
   ]
  },
  {
   "cell_type": "code",
   "execution_count": 120,
   "metadata": {},
   "outputs": [
    {
     "name": "stdout",
     "output_type": "stream",
     "text": [
      "Most common words in english from the sample:\n",
      "the, of, and, to, a, in, is, that, you, as, Wikipedia, for, are, on, by\n"
     ]
    },
    {
     "data": {
      "text/html": [
       "<div>\n",
       "<style scoped>\n",
       "    .dataframe tbody tr th:only-of-type {\n",
       "        vertical-align: middle;\n",
       "    }\n",
       "\n",
       "    .dataframe tbody tr th {\n",
       "        vertical-align: top;\n",
       "    }\n",
       "\n",
       "    .dataframe thead th {\n",
       "        text-align: right;\n",
       "    }\n",
       "</style>\n",
       "<table border=\"1\" class=\"dataframe\">\n",
       "  <thead>\n",
       "    <tr style=\"text-align: right;\">\n",
       "      <th></th>\n",
       "      <th>Word</th>\n",
       "      <th>Occurence</th>\n",
       "      <th>Percentage</th>\n",
       "    </tr>\n",
       "  </thead>\n",
       "  <tbody>\n",
       "    <tr>\n",
       "      <th>0</th>\n",
       "      <td>the</td>\n",
       "      <td>1362</td>\n",
       "      <td>4.48</td>\n",
       "    </tr>\n",
       "    <tr>\n",
       "      <th>1</th>\n",
       "      <td>of</td>\n",
       "      <td>1025</td>\n",
       "      <td>3.37</td>\n",
       "    </tr>\n",
       "    <tr>\n",
       "      <th>2</th>\n",
       "      <td>and</td>\n",
       "      <td>824</td>\n",
       "      <td>2.71</td>\n",
       "    </tr>\n",
       "    <tr>\n",
       "      <th>3</th>\n",
       "      <td>to</td>\n",
       "      <td>738</td>\n",
       "      <td>2.43</td>\n",
       "    </tr>\n",
       "    <tr>\n",
       "      <th>4</th>\n",
       "      <td>a</td>\n",
       "      <td>685</td>\n",
       "      <td>2.25</td>\n",
       "    </tr>\n",
       "    <tr>\n",
       "      <th>5</th>\n",
       "      <td>in</td>\n",
       "      <td>572</td>\n",
       "      <td>1.88</td>\n",
       "    </tr>\n",
       "    <tr>\n",
       "      <th>6</th>\n",
       "      <td>is</td>\n",
       "      <td>400</td>\n",
       "      <td>1.32</td>\n",
       "    </tr>\n",
       "    <tr>\n",
       "      <th>7</th>\n",
       "      <td>that</td>\n",
       "      <td>370</td>\n",
       "      <td>1.22</td>\n",
       "    </tr>\n",
       "    <tr>\n",
       "      <th>8</th>\n",
       "      <td>you</td>\n",
       "      <td>300</td>\n",
       "      <td>0.99</td>\n",
       "    </tr>\n",
       "    <tr>\n",
       "      <th>9</th>\n",
       "      <td>as</td>\n",
       "      <td>257</td>\n",
       "      <td>0.85</td>\n",
       "    </tr>\n",
       "    <tr>\n",
       "      <th>10</th>\n",
       "      <td>Wikipedia</td>\n",
       "      <td>250</td>\n",
       "      <td>0.82</td>\n",
       "    </tr>\n",
       "    <tr>\n",
       "      <th>11</th>\n",
       "      <td>for</td>\n",
       "      <td>242</td>\n",
       "      <td>0.80</td>\n",
       "    </tr>\n",
       "    <tr>\n",
       "      <th>12</th>\n",
       "      <td>are</td>\n",
       "      <td>207</td>\n",
       "      <td>0.68</td>\n",
       "    </tr>\n",
       "    <tr>\n",
       "      <th>13</th>\n",
       "      <td>on</td>\n",
       "      <td>205</td>\n",
       "      <td>0.67</td>\n",
       "    </tr>\n",
       "    <tr>\n",
       "      <th>14</th>\n",
       "      <td>by</td>\n",
       "      <td>184</td>\n",
       "      <td>0.61</td>\n",
       "    </tr>\n",
       "  </tbody>\n",
       "</table>\n",
       "</div>"
      ],
      "text/plain": [
       "         Word  Occurence  Percentage\n",
       "0         the       1362        4.48\n",
       "1          of       1025        3.37\n",
       "2         and        824        2.71\n",
       "3          to        738        2.43\n",
       "4           a        685        2.25\n",
       "5          in        572        1.88\n",
       "6          is        400        1.32\n",
       "7        that        370        1.22\n",
       "8         you        300        0.99\n",
       "9          as        257        0.85\n",
       "10  Wikipedia        250        0.82\n",
       "11        for        242        0.80\n",
       "12        are        207        0.68\n",
       "13         on        205        0.67\n",
       "14         by        184        0.61"
      ]
     },
     "execution_count": 120,
     "metadata": {},
     "output_type": "execute_result"
    }
   ],
   "source": [
    "eng_words_dict = {}\n",
    "\n",
    "for sentence in eng_array_of_word_arrays:\n",
    "    for word in sentence:\n",
    "        if word not in eng_words_dict:\n",
    "            eng_words_dict[word] = 1\n",
    "        else:\n",
    "            eng_words_dict[word] += 1\n",
    "\n",
    "eng_words_dict = {k: v for k, v in sorted(eng_words_dict.items(), key=lambda item: item[1], reverse=True)}\n",
    "\n",
    "eng_words_data = []\n",
    "\n",
    "for i in range(min(15, len(eng_words_dict.keys()))):\n",
    "    temp = []\n",
    "    temp.append(list(eng_words_dict.keys())[i])\n",
    "\n",
    "    occurence = eng_words_dict[list(eng_words_dict.keys())[i]]\n",
    "    temp.append(occurence)\n",
    "    temp.append(round((occurence / eng_number_of_words)*100, 2))\n",
    "    eng_words_data.append(temp)\n",
    "\n",
    "print(\"Most common words in english from the sample:\\n\" + \", \".join([elem[0] for elem in eng_words_data]))\n",
    "\n",
    "pd.DataFrame(eng_words_data, columns=[\"Word\", \"Occurence\", \"Percentage\"])"
   ]
  },
  {
   "cell_type": "markdown",
   "metadata": {},
   "source": [
    "Most common words used in the french text samples"
   ]
  },
  {
   "cell_type": "code",
   "execution_count": 121,
   "metadata": {},
   "outputs": [
    {
     "name": "stdout",
     "output_type": "stream",
     "text": [
      "Most common words in french from the sample:\n",
      "de, la, et, à, des, le, les, en, que, un, vous, est, une, dans, par\n"
     ]
    },
    {
     "data": {
      "text/html": [
       "<div>\n",
       "<style scoped>\n",
       "    .dataframe tbody tr th:only-of-type {\n",
       "        vertical-align: middle;\n",
       "    }\n",
       "\n",
       "    .dataframe tbody tr th {\n",
       "        vertical-align: top;\n",
       "    }\n",
       "\n",
       "    .dataframe thead th {\n",
       "        text-align: right;\n",
       "    }\n",
       "</style>\n",
       "<table border=\"1\" class=\"dataframe\">\n",
       "  <thead>\n",
       "    <tr style=\"text-align: right;\">\n",
       "      <th></th>\n",
       "      <th>Word</th>\n",
       "      <th>Occurence</th>\n",
       "      <th>Percentage</th>\n",
       "    </tr>\n",
       "  </thead>\n",
       "  <tbody>\n",
       "    <tr>\n",
       "      <th>0</th>\n",
       "      <td>de</td>\n",
       "      <td>1157</td>\n",
       "      <td>4.97</td>\n",
       "    </tr>\n",
       "    <tr>\n",
       "      <th>1</th>\n",
       "      <td>la</td>\n",
       "      <td>601</td>\n",
       "      <td>2.58</td>\n",
       "    </tr>\n",
       "    <tr>\n",
       "      <th>2</th>\n",
       "      <td>et</td>\n",
       "      <td>522</td>\n",
       "      <td>2.24</td>\n",
       "    </tr>\n",
       "    <tr>\n",
       "      <th>3</th>\n",
       "      <td>à</td>\n",
       "      <td>420</td>\n",
       "      <td>1.81</td>\n",
       "    </tr>\n",
       "    <tr>\n",
       "      <th>4</th>\n",
       "      <td>des</td>\n",
       "      <td>392</td>\n",
       "      <td>1.69</td>\n",
       "    </tr>\n",
       "    <tr>\n",
       "      <th>5</th>\n",
       "      <td>le</td>\n",
       "      <td>386</td>\n",
       "      <td>1.66</td>\n",
       "    </tr>\n",
       "    <tr>\n",
       "      <th>6</th>\n",
       "      <td>les</td>\n",
       "      <td>332</td>\n",
       "      <td>1.43</td>\n",
       "    </tr>\n",
       "    <tr>\n",
       "      <th>7</th>\n",
       "      <td>en</td>\n",
       "      <td>331</td>\n",
       "      <td>1.42</td>\n",
       "    </tr>\n",
       "    <tr>\n",
       "      <th>8</th>\n",
       "      <td>que</td>\n",
       "      <td>298</td>\n",
       "      <td>1.28</td>\n",
       "    </tr>\n",
       "    <tr>\n",
       "      <th>9</th>\n",
       "      <td>un</td>\n",
       "      <td>266</td>\n",
       "      <td>1.14</td>\n",
       "    </tr>\n",
       "    <tr>\n",
       "      <th>10</th>\n",
       "      <td>vous</td>\n",
       "      <td>262</td>\n",
       "      <td>1.13</td>\n",
       "    </tr>\n",
       "    <tr>\n",
       "      <th>11</th>\n",
       "      <td>est</td>\n",
       "      <td>254</td>\n",
       "      <td>1.09</td>\n",
       "    </tr>\n",
       "    <tr>\n",
       "      <th>12</th>\n",
       "      <td>une</td>\n",
       "      <td>236</td>\n",
       "      <td>1.01</td>\n",
       "    </tr>\n",
       "    <tr>\n",
       "      <th>13</th>\n",
       "      <td>dans</td>\n",
       "      <td>223</td>\n",
       "      <td>0.96</td>\n",
       "    </tr>\n",
       "    <tr>\n",
       "      <th>14</th>\n",
       "      <td>par</td>\n",
       "      <td>210</td>\n",
       "      <td>0.90</td>\n",
       "    </tr>\n",
       "  </tbody>\n",
       "</table>\n",
       "</div>"
      ],
      "text/plain": [
       "    Word  Occurence  Percentage\n",
       "0     de       1157        4.97\n",
       "1     la        601        2.58\n",
       "2     et        522        2.24\n",
       "3      à        420        1.81\n",
       "4    des        392        1.69\n",
       "5     le        386        1.66\n",
       "6    les        332        1.43\n",
       "7     en        331        1.42\n",
       "8    que        298        1.28\n",
       "9     un        266        1.14\n",
       "10  vous        262        1.13\n",
       "11   est        254        1.09\n",
       "12   une        236        1.01\n",
       "13  dans        223        0.96\n",
       "14   par        210        0.90"
      ]
     },
     "execution_count": 121,
     "metadata": {},
     "output_type": "execute_result"
    }
   ],
   "source": [
    "fr_words_dict = {}\n",
    "\n",
    "for sentence in fr_array_of_word_arrays:\n",
    "    for word in sentence:\n",
    "        if word not in fr_words_dict:\n",
    "            fr_words_dict[word] = 1\n",
    "        else:\n",
    "            fr_words_dict[word] += 1\n",
    "\n",
    "fr_words_dict = {k: v for k, v in sorted(fr_words_dict.items(), key=lambda item: item[1], reverse=True)}\n",
    "\n",
    "fr_words_data = []\n",
    "\n",
    "for i in range(min(15, len(fr_words_dict.keys()))):\n",
    "    temp = []\n",
    "    temp.append(list(fr_words_dict.keys())[i])\n",
    "\n",
    "    occurence = fr_words_dict[list(fr_words_dict.keys())[i]]\n",
    "    temp.append(occurence)\n",
    "    temp.append(round((occurence / fr_number_of_words)*100, 2))\n",
    "    fr_words_data.append(temp)\n",
    "\n",
    "print(\"Most common words in french from the sample:\\n\" + \", \".join([elem[0] for elem in fr_words_data]))\n",
    "\n",
    "pd.DataFrame(fr_words_data, columns=[\"Word\", \"Occurence\", \"Percentage\"])"
   ]
  },
  {
   "cell_type": "markdown",
   "metadata": {},
   "source": [
    "Most common words used in the german text samples"
   ]
  },
  {
   "cell_type": "code",
   "execution_count": 122,
   "metadata": {},
   "outputs": [
    {
     "name": "stdout",
     "output_type": "stream",
     "text": [
      "Most common words in german from the sample:\n",
      "Sie, und, ich, zu, du, das, es, Ich, dass, nicht, ist, in, die, wenn, ein\n"
     ]
    },
    {
     "data": {
      "text/html": [
       "<div>\n",
       "<style scoped>\n",
       "    .dataframe tbody tr th:only-of-type {\n",
       "        vertical-align: middle;\n",
       "    }\n",
       "\n",
       "    .dataframe tbody tr th {\n",
       "        vertical-align: top;\n",
       "    }\n",
       "\n",
       "    .dataframe thead th {\n",
       "        text-align: right;\n",
       "    }\n",
       "</style>\n",
       "<table border=\"1\" class=\"dataframe\">\n",
       "  <thead>\n",
       "    <tr style=\"text-align: right;\">\n",
       "      <th></th>\n",
       "      <th>Word</th>\n",
       "      <th>Occurence</th>\n",
       "      <th>Percentage</th>\n",
       "    </tr>\n",
       "  </thead>\n",
       "  <tbody>\n",
       "    <tr>\n",
       "      <th>0</th>\n",
       "      <td>Sie</td>\n",
       "      <td>196</td>\n",
       "      <td>3.31</td>\n",
       "    </tr>\n",
       "    <tr>\n",
       "      <th>1</th>\n",
       "      <td>und</td>\n",
       "      <td>148</td>\n",
       "      <td>2.50</td>\n",
       "    </tr>\n",
       "    <tr>\n",
       "      <th>2</th>\n",
       "      <td>ich</td>\n",
       "      <td>101</td>\n",
       "      <td>1.70</td>\n",
       "    </tr>\n",
       "    <tr>\n",
       "      <th>3</th>\n",
       "      <td>zu</td>\n",
       "      <td>98</td>\n",
       "      <td>1.65</td>\n",
       "    </tr>\n",
       "    <tr>\n",
       "      <th>4</th>\n",
       "      <td>du</td>\n",
       "      <td>95</td>\n",
       "      <td>1.60</td>\n",
       "    </tr>\n",
       "    <tr>\n",
       "      <th>5</th>\n",
       "      <td>das</td>\n",
       "      <td>89</td>\n",
       "      <td>1.50</td>\n",
       "    </tr>\n",
       "    <tr>\n",
       "      <th>6</th>\n",
       "      <td>es</td>\n",
       "      <td>86</td>\n",
       "      <td>1.45</td>\n",
       "    </tr>\n",
       "    <tr>\n",
       "      <th>7</th>\n",
       "      <td>Ich</td>\n",
       "      <td>85</td>\n",
       "      <td>1.43</td>\n",
       "    </tr>\n",
       "    <tr>\n",
       "      <th>8</th>\n",
       "      <td>dass</td>\n",
       "      <td>80</td>\n",
       "      <td>1.35</td>\n",
       "    </tr>\n",
       "    <tr>\n",
       "      <th>9</th>\n",
       "      <td>nicht</td>\n",
       "      <td>80</td>\n",
       "      <td>1.35</td>\n",
       "    </tr>\n",
       "    <tr>\n",
       "      <th>10</th>\n",
       "      <td>ist</td>\n",
       "      <td>78</td>\n",
       "      <td>1.32</td>\n",
       "    </tr>\n",
       "    <tr>\n",
       "      <th>11</th>\n",
       "      <td>in</td>\n",
       "      <td>68</td>\n",
       "      <td>1.15</td>\n",
       "    </tr>\n",
       "    <tr>\n",
       "      <th>12</th>\n",
       "      <td>die</td>\n",
       "      <td>65</td>\n",
       "      <td>1.10</td>\n",
       "    </tr>\n",
       "    <tr>\n",
       "      <th>13</th>\n",
       "      <td>wenn</td>\n",
       "      <td>49</td>\n",
       "      <td>0.83</td>\n",
       "    </tr>\n",
       "    <tr>\n",
       "      <th>14</th>\n",
       "      <td>ein</td>\n",
       "      <td>48</td>\n",
       "      <td>0.81</td>\n",
       "    </tr>\n",
       "  </tbody>\n",
       "</table>\n",
       "</div>"
      ],
      "text/plain": [
       "     Word  Occurence  Percentage\n",
       "0     Sie        196        3.31\n",
       "1     und        148        2.50\n",
       "2     ich        101        1.70\n",
       "3      zu         98        1.65\n",
       "4      du         95        1.60\n",
       "5     das         89        1.50\n",
       "6      es         86        1.45\n",
       "7     Ich         85        1.43\n",
       "8    dass         80        1.35\n",
       "9   nicht         80        1.35\n",
       "10    ist         78        1.32\n",
       "11     in         68        1.15\n",
       "12    die         65        1.10\n",
       "13   wenn         49        0.83\n",
       "14    ein         48        0.81"
      ]
     },
     "execution_count": 122,
     "metadata": {},
     "output_type": "execute_result"
    }
   ],
   "source": [
    "ger_words_dict = {}\n",
    "\n",
    "for sentence in ger_array_of_word_arrays:\n",
    "    for word in sentence:\n",
    "        if word not in ger_words_dict:\n",
    "            ger_words_dict[word] = 1\n",
    "        else:\n",
    "            ger_words_dict[word] += 1\n",
    "\n",
    "ger_words_dict = {k: v for k, v in sorted(ger_words_dict.items(), key=lambda item: item[1], reverse=True)}\n",
    "\n",
    "ger_words_data = []\n",
    "\n",
    "for i in range(min(15, len(ger_words_dict.keys()))):\n",
    "    temp = []\n",
    "    temp.append(list(ger_words_dict.keys())[i])\n",
    "\n",
    "    occurence = ger_words_dict[list(ger_words_dict.keys())[i]]\n",
    "    temp.append(occurence)\n",
    "    temp.append(round((occurence / ger_number_of_words)*100, 2))\n",
    "    ger_words_data.append(temp)\n",
    "\n",
    "print(\"Most common words in german from the sample:\\n\" + \", \".join([elem[0] for elem in ger_words_data]))\n",
    "\n",
    "pd.DataFrame(ger_words_data, columns=[\"Word\", \"Occurence\", \"Percentage\"])"
   ]
  },
  {
   "cell_type": "markdown",
   "metadata": {},
   "source": [
    "### Check for occurence rate for most common english words in german and french"
   ]
  },
  {
   "cell_type": "code",
   "execution_count": 109,
   "metadata": {},
   "outputs": [],
   "source": [
    "ger_occurences_of_eng = {}\n",
    "fr_occurences_of_eng = {}\n",
    "\n",
    "for word in eng_words_data:\n",
    "    if word[0] in fr_words_dict:\n",
    "        fr_occurences_of_eng[word[0]] = [word[1], fr_words_dict[word[0]], round((word[1] / fr_words_dict[word[0]]), 2)]\n",
    "    if word[0] in ger_words_dict:\n",
    "        ger_occurences_of_eng[word[0]] = [word[1], ger_words_dict[word[0]], round((word[1] / ger_words_dict[word[0]]), 2)]"
   ]
  },
  {
   "cell_type": "code",
   "execution_count": 110,
   "metadata": {},
   "outputs": [
    {
     "data": {
      "text/html": [
       "<div>\n",
       "<style scoped>\n",
       "    .dataframe tbody tr th:only-of-type {\n",
       "        vertical-align: middle;\n",
       "    }\n",
       "\n",
       "    .dataframe tbody tr th {\n",
       "        vertical-align: top;\n",
       "    }\n",
       "\n",
       "    .dataframe thead th {\n",
       "        text-align: right;\n",
       "    }\n",
       "</style>\n",
       "<table border=\"1\" class=\"dataframe\">\n",
       "  <thead>\n",
       "    <tr style=\"text-align: right;\">\n",
       "      <th></th>\n",
       "      <th>Word</th>\n",
       "      <th>Occurence in English</th>\n",
       "      <th>Occurence in German</th>\n",
       "      <th>Ratio</th>\n",
       "    </tr>\n",
       "  </thead>\n",
       "  <tbody>\n",
       "    <tr>\n",
       "      <th>0</th>\n",
       "      <td>in</td>\n",
       "      <td>572</td>\n",
       "      <td>68</td>\n",
       "      <td>8.41</td>\n",
       "    </tr>\n",
       "  </tbody>\n",
       "</table>\n",
       "</div>"
      ],
      "text/plain": [
       "  Word  Occurence in English  Occurence in German  Ratio\n",
       "0   in                   572                   68   8.41"
      ]
     },
     "execution_count": 110,
     "metadata": {},
     "output_type": "execute_result"
    }
   ],
   "source": [
    "ger_occurences_of_eng_data = []\n",
    "\n",
    "for i in range(len(ger_occurences_of_eng.keys())):\n",
    "    temp = []\n",
    "    temp.append(list(ger_occurences_of_eng.keys())[i])\n",
    "    temp.append(list(ger_occurences_of_eng.values())[i][0])\n",
    "    temp.append(list(ger_occurences_of_eng.values())[i][1])\n",
    "    temp.append(list(ger_occurences_of_eng.values())[i][2])\n",
    "    ger_occurences_of_eng_data.append(temp)\n",
    "pd.DataFrame(ger_occurences_of_eng_data, columns=[\"Word\", \"Occurence in English\", \"Occurence in German\", \"Ratio\"])"
   ]
  },
  {
   "cell_type": "code",
   "execution_count": 111,
   "metadata": {},
   "outputs": [
    {
     "data": {
      "text/html": [
       "<div>\n",
       "<style scoped>\n",
       "    .dataframe tbody tr th:only-of-type {\n",
       "        vertical-align: middle;\n",
       "    }\n",
       "\n",
       "    .dataframe tbody tr th {\n",
       "        vertical-align: top;\n",
       "    }\n",
       "\n",
       "    .dataframe thead th {\n",
       "        text-align: right;\n",
       "    }\n",
       "</style>\n",
       "<table border=\"1\" class=\"dataframe\">\n",
       "  <thead>\n",
       "    <tr style=\"text-align: right;\">\n",
       "      <th></th>\n",
       "      <th>Word</th>\n",
       "      <th>Occurence in English</th>\n",
       "      <th>Occurence in French</th>\n",
       "      <th>Ratio</th>\n",
       "    </tr>\n",
       "  </thead>\n",
       "  <tbody>\n",
       "    <tr>\n",
       "      <th>0</th>\n",
       "      <td>of</td>\n",
       "      <td>1025</td>\n",
       "      <td>2</td>\n",
       "      <td>512.50</td>\n",
       "    </tr>\n",
       "    <tr>\n",
       "      <th>1</th>\n",
       "      <td>and</td>\n",
       "      <td>824</td>\n",
       "      <td>2</td>\n",
       "      <td>412.00</td>\n",
       "    </tr>\n",
       "    <tr>\n",
       "      <th>2</th>\n",
       "      <td>to</td>\n",
       "      <td>738</td>\n",
       "      <td>1</td>\n",
       "      <td>738.00</td>\n",
       "    </tr>\n",
       "    <tr>\n",
       "      <th>3</th>\n",
       "      <td>a</td>\n",
       "      <td>685</td>\n",
       "      <td>149</td>\n",
       "      <td>4.60</td>\n",
       "    </tr>\n",
       "    <tr>\n",
       "      <th>4</th>\n",
       "      <td>as</td>\n",
       "      <td>257</td>\n",
       "      <td>2</td>\n",
       "      <td>128.50</td>\n",
       "    </tr>\n",
       "    <tr>\n",
       "      <th>5</th>\n",
       "      <td>Wikipedia</td>\n",
       "      <td>250</td>\n",
       "      <td>15</td>\n",
       "      <td>16.67</td>\n",
       "    </tr>\n",
       "    <tr>\n",
       "      <th>6</th>\n",
       "      <td>for</td>\n",
       "      <td>242</td>\n",
       "      <td>1</td>\n",
       "      <td>242.00</td>\n",
       "    </tr>\n",
       "    <tr>\n",
       "      <th>7</th>\n",
       "      <td>on</td>\n",
       "      <td>205</td>\n",
       "      <td>14</td>\n",
       "      <td>14.64</td>\n",
       "    </tr>\n",
       "  </tbody>\n",
       "</table>\n",
       "</div>"
      ],
      "text/plain": [
       "        Word  Occurence in English  Occurence in French   Ratio\n",
       "0         of                  1025                    2  512.50\n",
       "1        and                   824                    2  412.00\n",
       "2         to                   738                    1  738.00\n",
       "3          a                   685                  149    4.60\n",
       "4         as                   257                    2  128.50\n",
       "5  Wikipedia                   250                   15   16.67\n",
       "6        for                   242                    1  242.00\n",
       "7         on                   205                   14   14.64"
      ]
     },
     "execution_count": 111,
     "metadata": {},
     "output_type": "execute_result"
    }
   ],
   "source": [
    "fr_occurences_of_eng_data = []\n",
    "\n",
    "for i in range(len(fr_occurences_of_eng.keys())):\n",
    "    temp = []\n",
    "    temp.append(list(fr_occurences_of_eng.keys())[i])\n",
    "    temp.append(list(fr_occurences_of_eng.values())[i][0])\n",
    "    temp.append(list(fr_occurences_of_eng.values())[i][1])\n",
    "    temp.append(list(fr_occurences_of_eng.values())[i][2])\n",
    "    fr_occurences_of_eng_data.append(temp)\n",
    "\n",
    "pd.DataFrame(fr_occurences_of_eng_data, columns=[\"Word\", \"Occurence in English\", \"Occurence in French\", \"Ratio\"])"
   ]
  },
  {
   "cell_type": "markdown",
   "metadata": {},
   "source": [
    "Out of the word list of most common english words from the sample english text set (the, of, and, to, a, in, is, that, you, as, Wikipedia, for, are, on, by), the words:\n",
    "- \"a\" (4.6)\n",
    "- \"Wikipedia\" (16.67)\n",
    "- \"on\" (14.64)\n",
    "\n",
    "are excluded, because of a too high occurence rate in french (ratio below 100), therefore, classifying a text by using those words could lead to major classification errors.\n",
    "Furthermore, the word \"in\" is excluded as well (common word in german, ratio of 8.41).\n",
    "\n",
    "Therefore, following words will be used to identify a text sample as a text in english when containing any of those words:\n",
    "\n",
    "the, of, and, to, is, that, you, as, for, are, by\n"
   ]
  },
  {
   "cell_type": "markdown",
   "metadata": {},
   "source": [
    "### Check for occurence rate for most common french words in german and english"
   ]
  },
  {
   "cell_type": "code",
   "execution_count": 125,
   "metadata": {},
   "outputs": [],
   "source": [
    "ger_occurences_of_fr = {}\n",
    "eng_occurences_of_fr = {}\n",
    "\n",
    "for word in fr_words_data:\n",
    "    if word[0] in eng_words_dict:\n",
    "        eng_occurences_of_fr[word[0]] = [word[1], eng_words_dict[word[0]], round((word[1] / eng_words_dict[word[0]]), 2)]\n",
    "    if word[0] in ger_words_dict:\n",
    "        ger_occurences_of_fr[word[0]] = [word[1], ger_words_dict[word[0]], round((word[1] / ger_words_dict[word[0]]), 2)]"
   ]
  },
  {
   "cell_type": "code",
   "execution_count": 126,
   "metadata": {},
   "outputs": [
    {
     "data": {
      "text/html": [
       "<div>\n",
       "<style scoped>\n",
       "    .dataframe tbody tr th:only-of-type {\n",
       "        vertical-align: middle;\n",
       "    }\n",
       "\n",
       "    .dataframe tbody tr th {\n",
       "        vertical-align: top;\n",
       "    }\n",
       "\n",
       "    .dataframe thead th {\n",
       "        text-align: right;\n",
       "    }\n",
       "</style>\n",
       "<table border=\"1\" class=\"dataframe\">\n",
       "  <thead>\n",
       "    <tr style=\"text-align: right;\">\n",
       "      <th></th>\n",
       "      <th>Word</th>\n",
       "      <th>Occurence in French</th>\n",
       "      <th>Occurence in German</th>\n",
       "      <th>Ratio</th>\n",
       "    </tr>\n",
       "  </thead>\n",
       "  <tbody>\n",
       "    <tr>\n",
       "      <th>0</th>\n",
       "      <td>des</td>\n",
       "      <td>392</td>\n",
       "      <td>4</td>\n",
       "      <td>98.0</td>\n",
       "    </tr>\n",
       "  </tbody>\n",
       "</table>\n",
       "</div>"
      ],
      "text/plain": [
       "  Word  Occurence in French  Occurence in German  Ratio\n",
       "0  des                  392                    4   98.0"
      ]
     },
     "execution_count": 126,
     "metadata": {},
     "output_type": "execute_result"
    }
   ],
   "source": [
    "ger_occurences_of_fr_data = []\n",
    "\n",
    "for i in range(len(ger_occurences_of_fr.keys())):\n",
    "    temp = []\n",
    "    temp.append(list(ger_occurences_of_fr.keys())[i])\n",
    "    temp.append(list(ger_occurences_of_fr.values())[i][0])\n",
    "    temp.append(list(ger_occurences_of_fr.values())[i][1])\n",
    "    temp.append(list(ger_occurences_of_fr.values())[i][2])\n",
    "    ger_occurences_of_fr_data.append(temp)\n",
    "pd.DataFrame(ger_occurences_of_fr_data, columns=[\"Word\", \"Occurence in French\", \"Occurence in German\", \"Ratio\"])"
   ]
  },
  {
   "cell_type": "code",
   "execution_count": 127,
   "metadata": {},
   "outputs": [
    {
     "data": {
      "text/html": [
       "<div>\n",
       "<style scoped>\n",
       "    .dataframe tbody tr th:only-of-type {\n",
       "        vertical-align: middle;\n",
       "    }\n",
       "\n",
       "    .dataframe tbody tr th {\n",
       "        vertical-align: top;\n",
       "    }\n",
       "\n",
       "    .dataframe thead th {\n",
       "        text-align: right;\n",
       "    }\n",
       "</style>\n",
       "<table border=\"1\" class=\"dataframe\">\n",
       "  <thead>\n",
       "    <tr style=\"text-align: right;\">\n",
       "      <th></th>\n",
       "      <th>Word</th>\n",
       "      <th>Occurence in French</th>\n",
       "      <th>Occurence in English</th>\n",
       "      <th>Ratio</th>\n",
       "    </tr>\n",
       "  </thead>\n",
       "  <tbody>\n",
       "  </tbody>\n",
       "</table>\n",
       "</div>"
      ],
      "text/plain": [
       "Empty DataFrame\n",
       "Columns: [Word, Occurence in French, Occurence in English, Ratio]\n",
       "Index: []"
      ]
     },
     "execution_count": 127,
     "metadata": {},
     "output_type": "execute_result"
    }
   ],
   "source": [
    "eng_occurences_of_fr_data = []\n",
    "\n",
    "for i in range(len(eng_occurences_of_fr.keys())):\n",
    "    temp = []\n",
    "    temp.append(list(eng_occurences_of_fr.keys())[i])\n",
    "    temp.append(list(eng_occurences_of_fr.values())[i][0])\n",
    "    temp.append(list(eng_occurences_of_fr.values())[i][1])\n",
    "    temp.append(list(eng_occurences_of_fr.values())[i][2])\n",
    "    eng_occurences_of_fr_data.append(temp)\n",
    "pd.DataFrame(eng_occurences_of_fr_data, columns=[\"Word\", \"Occurence in French\", \"Occurence in English\", \"Ratio\"])"
   ]
  },
  {
   "cell_type": "markdown",
   "metadata": {},
   "source": [
    "Out of the word list of most common french words from the sample french text set (de, la, et, à, des, le, les, en, que, un, vous, est, une, dans, par) only the word \"des\" occurs in german (but with a ratio of 98). \n",
    "\n",
    "Therefore, no words needs to be excluded and all the words of the list will be used to identify a text sample as a text in french when containing any of those words:\n",
    "\n",
    "de, la, et, à, des, le, les, en, que, un, vous, est, une, dans, par"
   ]
  },
  {
   "cell_type": "markdown",
   "metadata": {},
   "source": [
    "### Check for occurence rate for most common german words in french and english"
   ]
  },
  {
   "cell_type": "code",
   "execution_count": 129,
   "metadata": {},
   "outputs": [],
   "source": [
    "fr_occurences_of_ger = {}\n",
    "eng_occurences_of_ger = {}\n",
    "\n",
    "for word in ger_words_data:\n",
    "    if word[0] in eng_words_dict:\n",
    "        eng_occurences_of_ger[word[0]] = [word[1], eng_words_dict[word[0]], round((word[1] / eng_words_dict[word[0]]), 2)]\n",
    "    if word[0] in fr_words_dict:\n",
    "        fr_occurences_of_ger[word[0]] = [word[1], fr_words_dict[word[0]], round((word[1] / fr_words_dict[word[0]]), 2)]"
   ]
  },
  {
   "cell_type": "code",
   "execution_count": 131,
   "metadata": {},
   "outputs": [
    {
     "data": {
      "text/html": [
       "<div>\n",
       "<style scoped>\n",
       "    .dataframe tbody tr th:only-of-type {\n",
       "        vertical-align: middle;\n",
       "    }\n",
       "\n",
       "    .dataframe tbody tr th {\n",
       "        vertical-align: top;\n",
       "    }\n",
       "\n",
       "    .dataframe thead th {\n",
       "        text-align: right;\n",
       "    }\n",
       "</style>\n",
       "<table border=\"1\" class=\"dataframe\">\n",
       "  <thead>\n",
       "    <tr style=\"text-align: right;\">\n",
       "      <th></th>\n",
       "      <th>Word</th>\n",
       "      <th>Occurence in German</th>\n",
       "      <th>Occurence in French</th>\n",
       "      <th>Ratio</th>\n",
       "    </tr>\n",
       "  </thead>\n",
       "  <tbody>\n",
       "    <tr>\n",
       "      <th>0</th>\n",
       "      <td>du</td>\n",
       "      <td>95</td>\n",
       "      <td>148</td>\n",
       "      <td>0.64</td>\n",
       "    </tr>\n",
       "    <tr>\n",
       "      <th>1</th>\n",
       "      <td>es</td>\n",
       "      <td>86</td>\n",
       "      <td>5</td>\n",
       "      <td>17.20</td>\n",
       "    </tr>\n",
       "  </tbody>\n",
       "</table>\n",
       "</div>"
      ],
      "text/plain": [
       "  Word  Occurence in German  Occurence in French  Ratio\n",
       "0   du                   95                  148   0.64\n",
       "1   es                   86                    5  17.20"
      ]
     },
     "execution_count": 131,
     "metadata": {},
     "output_type": "execute_result"
    }
   ],
   "source": [
    "fr_occurences_of_ger_data = []\n",
    "\n",
    "for i in range(len(fr_occurences_of_ger.keys())):\n",
    "    temp = []\n",
    "    temp.append(list(fr_occurences_of_ger.keys())[i])\n",
    "    temp.append(list(fr_occurences_of_ger.values())[i][0])\n",
    "    temp.append(list(fr_occurences_of_ger.values())[i][1])\n",
    "    temp.append(list(fr_occurences_of_ger.values())[i][2])\n",
    "    fr_occurences_of_ger_data.append(temp)\n",
    "pd.DataFrame(fr_occurences_of_ger_data, columns=[\"Word\", \"Occurence in German\", \"Occurence in French\", \"Ratio\"])"
   ]
  },
  {
   "cell_type": "code",
   "execution_count": 132,
   "metadata": {},
   "outputs": [
    {
     "data": {
      "text/html": [
       "<div>\n",
       "<style scoped>\n",
       "    .dataframe tbody tr th:only-of-type {\n",
       "        vertical-align: middle;\n",
       "    }\n",
       "\n",
       "    .dataframe tbody tr th {\n",
       "        vertical-align: top;\n",
       "    }\n",
       "\n",
       "    .dataframe thead th {\n",
       "        text-align: right;\n",
       "    }\n",
       "</style>\n",
       "<table border=\"1\" class=\"dataframe\">\n",
       "  <thead>\n",
       "    <tr style=\"text-align: right;\">\n",
       "      <th></th>\n",
       "      <th>Word</th>\n",
       "      <th>Occurence in German</th>\n",
       "      <th>Occurence in English</th>\n",
       "      <th>Ratio</th>\n",
       "    </tr>\n",
       "  </thead>\n",
       "  <tbody>\n",
       "    <tr>\n",
       "      <th>0</th>\n",
       "      <td>in</td>\n",
       "      <td>68</td>\n",
       "      <td>572</td>\n",
       "      <td>0.12</td>\n",
       "    </tr>\n",
       "  </tbody>\n",
       "</table>\n",
       "</div>"
      ],
      "text/plain": [
       "  Word  Occurence in German  Occurence in English  Ratio\n",
       "0   in                   68                   572   0.12"
      ]
     },
     "execution_count": 132,
     "metadata": {},
     "output_type": "execute_result"
    }
   ],
   "source": [
    "eng_occurences_of_ger_data = []\n",
    "\n",
    "for i in range(len(eng_occurences_of_ger.keys())):\n",
    "    temp = []\n",
    "    temp.append(list(eng_occurences_of_ger.keys())[i])\n",
    "    temp.append(list(eng_occurences_of_ger.values())[i][0])\n",
    "    temp.append(list(eng_occurences_of_ger.values())[i][1])\n",
    "    temp.append(list(eng_occurences_of_ger.values())[i][2])\n",
    "    eng_occurences_of_ger_data.append(temp)\n",
    "pd.DataFrame(eng_occurences_of_ger_data, columns=[\"Word\", \"Occurence in German\", \"Occurence in English\", \"Ratio\"])"
   ]
  },
  {
   "cell_type": "markdown",
   "metadata": {},
   "source": [
    "Out of the word list of most common german words from the sample german text set (Sie, und, ich, zu, du, das, es, Ich, dass, nicht, ist, in, die, wenn, ein) the words:\n",
    "- \"du\" (0.64) - French\n",
    "- \"es\" (17.20) - French\n",
    "- \"in\" (0.12) - English\n",
    "\n",
    "Occur too often in french or english in order to allow a classification through those words (\"du\" and \"in\" even occur more often in french or english than in german).\n",
    "\n",
    "Therefore, following words will be used to identify a text sample as a text in german when containing any of those words:\n",
    "\n",
    "Sie, und, ich, zu, das, Ich, dass, nicht, ist, die, wenn, ein"
   ]
  },
  {
   "cell_type": "markdown",
   "metadata": {},
   "source": [
    "## <u>Classification</u>"
   ]
  },
  {
   "cell_type": "markdown",
   "metadata": {},
   "source": [
    "Order of attributes for classification: <u>condition => yes / no</u>\n",
    "- hasFrenchSpecificWord => French / next\n",
    "- hasEnglishSpecificWord => English / next\n",
    "- hasGermanSpecificWord => German / next\n",
    "- hasGermanSpecialChar => German / next\n",
    "- hasFrenchSpecialChar => French / next\n",
    "- percentageCapitalWordsAbove23 => German / No result\n",
    "\n",
    "In case the last attribute is not true (therefore all attributes are evaluated to false), the decision tree can't decide wether the language is french, english or german.\n",
    "\n",
    "The last attribute (Percentage Capital Words Above 23%) often fails for text, that are composed of many small individual sentences (first capital letters) or letters that contain many names, that are capitalized. The usage of this attribute needs to be reavaluated with more sample values.\n"
   ]
  }
 ],
 "metadata": {
  "kernelspec": {
   "display_name": "Python 3",
   "language": "python",
   "name": "python3"
  },
  "language_info": {
   "codemirror_mode": {
    "name": "ipython",
    "version": 3
   },
   "file_extension": ".py",
   "mimetype": "text/x-python",
   "name": "python",
   "nbconvert_exporter": "python",
   "pygments_lexer": "ipython3",
   "version": "3.10.7"
  },
  "orig_nbformat": 4
 },
 "nbformat": 4,
 "nbformat_minor": 2
}
